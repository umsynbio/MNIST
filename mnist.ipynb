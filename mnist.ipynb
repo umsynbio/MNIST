{
 "cells": [
  {
   "cell_type": "code",
   "execution_count": 1,
   "metadata": {},
   "outputs": [],
   "source": [
    "# !pip install torch torchvision\n",
    "# !pip install wandb\n",
    "# !pip install nbformat"
   ]
  },
  {
   "cell_type": "code",
   "execution_count": 1,
   "metadata": {},
   "outputs": [],
   "source": [
    "import torch\n",
    "import torch.nn as nn\n",
    "import torch.optim as optim\n",
    "from torchvision import datasets, transforms\n",
    "from torch.utils.data import DataLoader"
   ]
  },
  {
   "cell_type": "code",
   "execution_count": 2,
   "metadata": {},
   "outputs": [],
   "source": [
    "# hyperparameters\n",
    "\n",
    "batch_size = 64\n",
    "learning_rate = 0.001\n",
    "epochs = 30"
   ]
  },
  {
   "cell_type": "code",
   "execution_count": 3,
   "metadata": {},
   "outputs": [
    {
     "name": "stderr",
     "output_type": "stream",
     "text": [
      "\u001b[34m\u001b[1mwandb\u001b[0m: Using wandb-core as the SDK backend.  Please refer to https://wandb.me/wandb-core for more information.\n",
      "\u001b[34m\u001b[1mwandb\u001b[0m: Currently logged in as: \u001b[33mzeri\u001b[0m (\u001b[33mzeri-university-of-michigan\u001b[0m) to \u001b[32mhttps://api.wandb.ai\u001b[0m. Use \u001b[1m`wandb login --relogin`\u001b[0m to force relogin\n"
     ]
    },
    {
     "data": {
      "text/html": [
       "Tracking run with wandb version 0.19.9"
      ],
      "text/plain": [
       "<IPython.core.display.HTML object>"
      ]
     },
     "metadata": {},
     "output_type": "display_data"
    },
    {
     "data": {
      "text/html": [
       "Run data is saved locally in <code>/Users/matcha/Code/MNIST/wandb/run-20250406_193009-o8ycpjx3</code>"
      ],
      "text/plain": [
       "<IPython.core.display.HTML object>"
      ]
     },
     "metadata": {},
     "output_type": "display_data"
    },
    {
     "data": {
      "text/html": [
       "Syncing run <strong><a href='https://wandb.ai/zeri-university-of-michigan/mnist-basic/runs/o8ycpjx3' target=\"_blank\">dax-sicko-7</a></strong> to <a href='https://wandb.ai/zeri-university-of-michigan/mnist-basic' target=\"_blank\">Weights & Biases</a> (<a href='https://wandb.me/developer-guide' target=\"_blank\">docs</a>)<br>"
      ],
      "text/plain": [
       "<IPython.core.display.HTML object>"
      ]
     },
     "metadata": {},
     "output_type": "display_data"
    },
    {
     "data": {
      "text/html": [
       " View project at <a href='https://wandb.ai/zeri-university-of-michigan/mnist-basic' target=\"_blank\">https://wandb.ai/zeri-university-of-michigan/mnist-basic</a>"
      ],
      "text/plain": [
       "<IPython.core.display.HTML object>"
      ]
     },
     "metadata": {},
     "output_type": "display_data"
    },
    {
     "data": {
      "text/html": [
       " View run at <a href='https://wandb.ai/zeri-university-of-michigan/mnist-basic/runs/o8ycpjx3' target=\"_blank\">https://wandb.ai/zeri-university-of-michigan/mnist-basic/runs/o8ycpjx3</a>"
      ],
      "text/plain": [
       "<IPython.core.display.HTML object>"
      ]
     },
     "metadata": {},
     "output_type": "display_data"
    }
   ],
   "source": [
    "import wandb\n",
    "# Start a new wandb run to track this script.\n",
    "run = wandb.init(\n",
    "    project=\"mnist-basic\",\n",
    "    config={\n",
    "        \"learning_rate\": learning_rate,\n",
    "        \"batch_size\": batch_size,\n",
    "        \"architecture\": \"CNN\",\n",
    "        \"dataset\": \"MNIST\",\n",
    "        \"epochs\": epochs,\n",
    "    },\n",
    ")\n",
    "\n",
    "\n"
   ]
  },
  {
   "cell_type": "code",
   "execution_count": 4,
   "metadata": {},
   "outputs": [],
   "source": [
    "transform = transforms.ToTensor()\n",
    "\n",
    "train_dataset = datasets.MNIST(root='./data', train=True, download=True, transform=transform)\n",
    "test_dataset = datasets.MNIST(root='./data', train=False, download=True, transform=transform)\n"
   ]
  },
  {
   "cell_type": "code",
   "execution_count": 5,
   "metadata": {},
   "outputs": [],
   "source": [
    "\n",
    "train_loader = DataLoader(train_dataset, batch_size=batch_size, shuffle=True)\n",
    "test_loader = DataLoader(test_dataset, batch_size=batch_size)\n"
   ]
  },
  {
   "cell_type": "code",
   "execution_count": 6,
   "metadata": {},
   "outputs": [],
   "source": [
    "class SimpleNN(nn.Module):\n",
    "    def __init__(self):\n",
    "        super(SimpleNN, self).__init__()\n",
    "        self.fc = nn.Sequential(\n",
    "            nn.Flatten(),\n",
    "            nn.Linear(28*28, 128),\n",
    "            nn.ReLU(),\n",
    "            nn.Linear(128, 10)\n",
    "        )\n",
    "        \n",
    "    def forward(self, x):\n",
    "        return self.fc(x)\n"
   ]
  },
  {
   "cell_type": "code",
   "execution_count": 7,
   "metadata": {},
   "outputs": [],
   "source": [
    "\n",
    "# 4. Initialize model, loss, and optimizer\n",
    "device = torch.device('cuda' if torch.cuda.is_available() else 'cpu')\n",
    "model = SimpleNN().to(device)\n",
    "criterion = nn.CrossEntropyLoss()\n",
    "optimizer = optim.Adam(model.parameters(), lr=learning_rate)\n"
   ]
  },
  {
   "cell_type": "code",
   "execution_count": 8,
   "metadata": {},
   "outputs": [
    {
     "name": "stdout",
     "output_type": "stream",
     "text": [
      "Epoch [1/30] Train Loss: 0.3368 Val Loss: 0.1804 Accuracy: 94.87% PR-AUC: 0.9863\n",
      "Epoch [2/30] Train Loss: 0.1513 Val Loss: 0.1193 Accuracy: 96.44% PR-AUC: 0.9930\n",
      "Epoch [3/30] Train Loss: 0.1052 Val Loss: 0.0998 Accuracy: 96.98% PR-AUC: 0.9950\n",
      "Epoch [4/30] Train Loss: 0.0794 Val Loss: 0.0870 Accuracy: 97.42% PR-AUC: 0.9960\n",
      "Epoch [5/30] Train Loss: 0.0627 Val Loss: 0.0814 Accuracy: 97.53% PR-AUC: 0.9965\n",
      "Epoch [6/30] Train Loss: 0.0504 Val Loss: 0.0759 Accuracy: 97.69% PR-AUC: 0.9968\n",
      "Epoch [7/30] Train Loss: 0.0416 Val Loss: 0.0770 Accuracy: 97.70% PR-AUC: 0.9968\n",
      "Epoch [8/30] Train Loss: 0.0338 Val Loss: 0.0728 Accuracy: 97.76% PR-AUC: 0.9973\n",
      "Epoch [9/30] Train Loss: 0.0287 Val Loss: 0.0699 Accuracy: 97.80% PR-AUC: 0.9975\n",
      "Epoch [10/30] Train Loss: 0.0241 Val Loss: 0.0669 Accuracy: 97.86% PR-AUC: 0.9978\n",
      "Epoch [11/30] Train Loss: 0.0188 Val Loss: 0.0742 Accuracy: 97.79% PR-AUC: 0.9973\n",
      "Epoch [12/30] Train Loss: 0.0168 Val Loss: 0.0770 Accuracy: 97.81% PR-AUC: 0.9972\n",
      "Epoch [13/30] Train Loss: 0.0135 Val Loss: 0.0756 Accuracy: 97.78% PR-AUC: 0.9975\n",
      "Epoch [14/30] Train Loss: 0.0110 Val Loss: 0.0721 Accuracy: 97.99% PR-AUC: 0.9975\n",
      "Epoch [15/30] Train Loss: 0.0106 Val Loss: 0.0803 Accuracy: 97.78% PR-AUC: 0.9973\n",
      "Epoch [16/30] Train Loss: 0.0085 Val Loss: 0.0798 Accuracy: 97.76% PR-AUC: 0.9976\n",
      "Epoch [17/30] Train Loss: 0.0067 Val Loss: 0.0817 Accuracy: 97.82% PR-AUC: 0.9975\n",
      "Epoch [18/30] Train Loss: 0.0068 Val Loss: 0.0901 Accuracy: 97.73% PR-AUC: 0.9972\n",
      "Epoch [19/30] Train Loss: 0.0072 Val Loss: 0.0810 Accuracy: 97.85% PR-AUC: 0.9976\n",
      "Epoch [20/30] Train Loss: 0.0042 Val Loss: 0.0883 Accuracy: 97.82% PR-AUC: 0.9974\n",
      "Epoch [21/30] Train Loss: 0.0054 Val Loss: 0.0930 Accuracy: 97.82% PR-AUC: 0.9972\n",
      "Epoch [22/30] Train Loss: 0.0052 Val Loss: 0.0957 Accuracy: 97.64% PR-AUC: 0.9970\n",
      "Epoch [23/30] Train Loss: 0.0051 Val Loss: 0.0889 Accuracy: 97.87% PR-AUC: 0.9976\n",
      "Epoch [24/30] Train Loss: 0.0024 Val Loss: 0.0935 Accuracy: 97.77% PR-AUC: 0.9975\n",
      "Epoch [25/30] Train Loss: 0.0051 Val Loss: 0.0919 Accuracy: 97.88% PR-AUC: 0.9976\n",
      "Epoch [26/30] Train Loss: 0.0015 Val Loss: 0.0948 Accuracy: 97.93% PR-AUC: 0.9977\n",
      "Epoch [27/30] Train Loss: 0.0044 Val Loss: 0.0961 Accuracy: 97.91% PR-AUC: 0.9975\n",
      "Epoch [28/30] Train Loss: 0.0031 Val Loss: 0.1079 Accuracy: 97.82% PR-AUC: 0.9972\n",
      "Epoch [29/30] Train Loss: 0.0023 Val Loss: 0.1111 Accuracy: 97.64% PR-AUC: 0.9969\n",
      "Epoch [30/30] Train Loss: 0.0052 Val Loss: 0.1067 Accuracy: 97.88% PR-AUC: 0.9972\n"
     ]
    }
   ],
   "source": [
    "from sklearn.metrics import average_precision_score\n",
    "from sklearn.preprocessing import label_binarize\n",
    "import numpy as np\n",
    "\n",
    "for epoch in range(epochs):\n",
    "    # -------- TRAINING --------\n",
    "    model.train()\n",
    "    running_loss = 0\n",
    "    for batch_idx, (data, targets) in enumerate(train_loader):\n",
    "        data, targets = data.to(device), targets.to(device)\n",
    "\n",
    "        # Forward pass\n",
    "        scores = model(data)\n",
    "        loss = criterion(scores, targets)\n",
    "\n",
    "        # Backward and optimize\n",
    "        optimizer.zero_grad()\n",
    "        loss.backward()\n",
    "        optimizer.step()\n",
    "\n",
    "        running_loss += loss.item()\n",
    "\n",
    "    avg_train_loss = running_loss / len(train_loader)\n",
    "\n",
    "    # -------- EVALUATION --------\n",
    "    model.eval()\n",
    "    correct = 0\n",
    "    total = 0\n",
    "    eval_loss = 0\n",
    "    all_probs = []\n",
    "    all_targets = []\n",
    "\n",
    "    with torch.no_grad():\n",
    "        for data, targets in test_loader:\n",
    "            data, targets = data.to(device), targets.to(device)\n",
    "            outputs = model(data)\n",
    "\n",
    "            loss = criterion(outputs, targets)\n",
    "            eval_loss += loss.item()\n",
    "\n",
    "            probs = torch.softmax(outputs, dim=1)  # For multi-class\n",
    "            all_probs.append(probs.cpu())\n",
    "            all_targets.append(targets.cpu())\n",
    "\n",
    "            _, predicted = outputs.max(1)\n",
    "            correct += (predicted == targets).sum().item()\n",
    "            total += targets.size(0)\n",
    "\n",
    "    # Convert to NumPy for PR-AUC\n",
    "    all_probs = torch.cat(all_probs).numpy()          # shape: [N, 10]\n",
    "    all_targets = torch.cat(all_targets).numpy()      # shape: [N]\n",
    "    all_targets_bin = label_binarize(all_targets, classes=np.arange(10))  # [N, 10]\n",
    "\n",
    "    pr_auc = average_precision_score(all_targets_bin, all_probs, average='macro')\n",
    "    accuracy = 100 * correct / total\n",
    "    avg_eval_loss = eval_loss / len(test_loader)\n",
    "\n",
    "    print(f\"Epoch [{epoch+1}/{epochs}] \"\n",
    "          f\"Train Loss: {avg_train_loss:.4f} \"\n",
    "          f\"Val Loss: {avg_eval_loss:.4f} \"\n",
    "          f\"Accuracy: {accuracy:.2f}% \"\n",
    "          f\"PR-AUC: {pr_auc:.4f}\")\n",
    "\n",
    "    wandb.log({\n",
    "        \"epoch\": epoch + 1,\n",
    "        \"train_loss\": avg_train_loss,\n",
    "        \"val_loss\": avg_eval_loss,\n",
    "        \"val_accuracy\": accuracy,\n",
    "        \"val_pr_auc\": pr_auc\n",
    "    })"
   ]
  },
  {
   "cell_type": "code",
   "execution_count": 9,
   "metadata": {},
   "outputs": [
    {
     "name": "stdout",
     "output_type": "stream",
     "text": [
      "Accuracy on test set: 97.88%\n"
     ]
    }
   ],
   "source": [
    "\n",
    "# 6. Evaluation\n",
    "model.eval()\n",
    "correct = 0\n",
    "total = 0\n",
    "\n",
    "with torch.no_grad():\n",
    "    for data, targets in test_loader:\n",
    "        data, targets = data.to(device), targets.to(device)\n",
    "        outputs = model(data)\n",
    "        _, predicted = outputs.max(1)\n",
    "        total += targets.size(0)\n",
    "        correct += (predicted == targets).sum().item()\n",
    "\n",
    "print(f\"Accuracy on test set: {100 * correct / total:.2f}%\")"
   ]
  },
  {
   "cell_type": "code",
   "execution_count": 12,
   "metadata": {},
   "outputs": [],
   "source": [
    "artifact = wandb.Artifact(\n",
    "    name=\"mnist-basic\",\n",
    "    type=\"model\",\n",
    "    metadata={\n",
    "        \"learning_rate\": learning_rate,\n",
    "        \"batch_size\": batch_size,\n",
    "        \"architecture\": \"CNN\",\n",
    "        \"dataset\": \"MNIST\",\n",
    "        \"epochs\": epochs,\n",
    "    }\n",
    ")"
   ]
  },
  {
   "cell_type": "code",
   "execution_count": 13,
   "metadata": {},
   "outputs": [
    {
     "data": {
      "text/plain": [
       "<Artifact mnist-basic>"
      ]
     },
     "execution_count": 13,
     "metadata": {},
     "output_type": "execute_result"
    }
   ],
   "source": [
    "# save model\n",
    "torch.save(model.state_dict(), \"mnist-basic.pth\")\n",
    "artifact.add_file(\"mnist-basic.pth\")\n",
    "run.log_artifact(artifact)\n"
   ]
  },
  {
   "cell_type": "code",
   "execution_count": 14,
   "metadata": {},
   "outputs": [
    {
     "data": {
      "text/html": [],
      "text/plain": [
       "<IPython.core.display.HTML object>"
      ]
     },
     "metadata": {},
     "output_type": "display_data"
    },
    {
     "data": {
      "text/html": [
       "<br>    <style><br>        .wandb-row {<br>            display: flex;<br>            flex-direction: row;<br>            flex-wrap: wrap;<br>            justify-content: flex-start;<br>            width: 100%;<br>        }<br>        .wandb-col {<br>            display: flex;<br>            flex-direction: column;<br>            flex-basis: 100%;<br>            flex: 1;<br>            padding: 10px;<br>        }<br>    </style><br><div class=\"wandb-row\"><div class=\"wandb-col\"><h3>Run history:</h3><br/><table class=\"wandb\"><tr><td>epoch</td><td>▁▁▁▂▂▂▂▃▃▃▃▄▄▄▄▅▅▅▅▆▆▆▆▇▇▇▇███</td></tr><tr><td>train_loss</td><td>█▄▃▃▂▂▂▂▂▁▁▁▁▁▁▁▁▁▁▁▁▁▁▁▁▁▁▁▁▁</td></tr><tr><td>val_accuracy</td><td>▁▅▆▇▇▇▇▇███████▇█▇███▇██████▇█</td></tr><tr><td>val_loss</td><td>█▄▃▂▂▂▂▁▁▁▁▂▂▁▂▂▂▂▂▂▃▃▂▃▃▃▃▄▄▃</td></tr><tr><td>val_pr_auc</td><td>▁▅▆▇▇▇▇█████████████████████▇█</td></tr></table><br/></div><div class=\"wandb-col\"><h3>Run summary:</h3><br/><table class=\"wandb\"><tr><td>epoch</td><td>30</td></tr><tr><td>train_loss</td><td>0.00518</td></tr><tr><td>val_accuracy</td><td>97.88</td></tr><tr><td>val_loss</td><td>0.10672</td></tr><tr><td>val_pr_auc</td><td>0.99722</td></tr></table><br/></div></div>"
      ],
      "text/plain": [
       "<IPython.core.display.HTML object>"
      ]
     },
     "metadata": {},
     "output_type": "display_data"
    },
    {
     "data": {
      "text/html": [
       " View run <strong style=\"color:#cdcd00\">dax-sicko-7</strong> at: <a href='https://wandb.ai/zeri-university-of-michigan/mnist-basic/runs/o8ycpjx3' target=\"_blank\">https://wandb.ai/zeri-university-of-michigan/mnist-basic/runs/o8ycpjx3</a><br> View project at: <a href='https://wandb.ai/zeri-university-of-michigan/mnist-basic' target=\"_blank\">https://wandb.ai/zeri-university-of-michigan/mnist-basic</a><br>Synced 5 W&B file(s), 0 media file(s), 2 artifact file(s) and 0 other file(s)"
      ],
      "text/plain": [
       "<IPython.core.display.HTML object>"
      ]
     },
     "metadata": {},
     "output_type": "display_data"
    },
    {
     "data": {
      "text/html": [
       "Find logs at: <code>./wandb/run-20250406_193009-o8ycpjx3/logs</code>"
      ],
      "text/plain": [
       "<IPython.core.display.HTML object>"
      ]
     },
     "metadata": {},
     "output_type": "display_data"
    }
   ],
   "source": [
    "run.finish()"
   ]
  },
  {
   "cell_type": "code",
   "execution_count": null,
   "metadata": {},
   "outputs": [],
   "source": []
  }
 ],
 "metadata": {
  "kernelspec": {
   "display_name": "venv (3.11.8)",
   "language": "python",
   "name": "python3"
  },
  "language_info": {
   "codemirror_mode": {
    "name": "ipython",
    "version": 3
   },
   "file_extension": ".py",
   "mimetype": "text/x-python",
   "name": "python",
   "nbconvert_exporter": "python",
   "pygments_lexer": "ipython3",
   "version": "3.11.8"
  }
 },
 "nbformat": 4,
 "nbformat_minor": 2
}
